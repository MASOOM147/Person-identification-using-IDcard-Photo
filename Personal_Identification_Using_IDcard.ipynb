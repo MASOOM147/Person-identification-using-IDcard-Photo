{
  "cells": [
    {
      "cell_type": "code",
      "execution_count": null,
      "metadata": {
        "colab": {
          "base_uri": "https://localhost:8080/"
        },
        "id": "9yIyTL9PLqK3",
        "outputId": "dbba5882-30c3-408e-e4b3-50919fcbed08"
      },
      "outputs": [
        {
          "output_type": "stream",
          "name": "stdout",
          "text": [
            "Requirement already satisfied: dlib in /usr/local/lib/python3.10/dist-packages (19.24.2)\n",
            "Requirement already satisfied: numpy in /usr/local/lib/python3.10/dist-packages (1.23.5)\n",
            "Requirement already satisfied: matplotlib in /usr/local/lib/python3.10/dist-packages (3.7.1)\n",
            "Requirement already satisfied: contourpy>=1.0.1 in /usr/local/lib/python3.10/dist-packages (from matplotlib) (1.1.0)\n",
            "Requirement already satisfied: cycler>=0.10 in /usr/local/lib/python3.10/dist-packages (from matplotlib) (0.11.0)\n",
            "Requirement already satisfied: fonttools>=4.22.0 in /usr/local/lib/python3.10/dist-packages (from matplotlib) (4.42.0)\n",
            "Requirement already satisfied: kiwisolver>=1.0.1 in /usr/local/lib/python3.10/dist-packages (from matplotlib) (1.4.4)\n",
            "Requirement already satisfied: numpy>=1.20 in /usr/local/lib/python3.10/dist-packages (from matplotlib) (1.23.5)\n",
            "Requirement already satisfied: packaging>=20.0 in /usr/local/lib/python3.10/dist-packages (from matplotlib) (23.1)\n",
            "Requirement already satisfied: pillow>=6.2.0 in /usr/local/lib/python3.10/dist-packages (from matplotlib) (9.4.0)\n",
            "Requirement already satisfied: pyparsing>=2.3.1 in /usr/local/lib/python3.10/dist-packages (from matplotlib) (3.1.1)\n",
            "Requirement already satisfied: python-dateutil>=2.7 in /usr/local/lib/python3.10/dist-packages (from matplotlib) (2.8.2)\n",
            "Requirement already satisfied: six>=1.5 in /usr/local/lib/python3.10/dist-packages (from python-dateutil>=2.7->matplotlib) (1.16.0)\n",
            "Requirement already satisfied: opencv-python in /usr/local/lib/python3.10/dist-packages (4.8.0.76)\n",
            "Requirement already satisfied: numpy>=1.21.2 in /usr/local/lib/python3.10/dist-packages (from opencv-python) (1.23.5)\n",
            "Collecting face_recognition\n",
            "  Downloading face_recognition-1.3.0-py2.py3-none-any.whl (15 kB)\n",
            "Collecting face-recognition-models>=0.3.0 (from face_recognition)\n",
            "  Downloading face_recognition_models-0.3.0.tar.gz (100.1 MB)\n",
            "\u001b[2K     \u001b[90m━━━━━━━━━━━━━━━━━━━━━━━━━━━━━━━━━━━━━━━\u001b[0m \u001b[32m100.1/100.1 MB\u001b[0m \u001b[31m6.6 MB/s\u001b[0m eta \u001b[36m0:00:00\u001b[0m\n",
            "\u001b[?25h  Preparing metadata (setup.py) ... \u001b[?25l\u001b[?25hdone\n",
            "Requirement already satisfied: Click>=6.0 in /usr/local/lib/python3.10/dist-packages (from face_recognition) (8.1.7)\n",
            "Requirement already satisfied: dlib>=19.7 in /usr/local/lib/python3.10/dist-packages (from face_recognition) (19.24.2)\n",
            "Requirement already satisfied: numpy in /usr/local/lib/python3.10/dist-packages (from face_recognition) (1.23.5)\n",
            "Requirement already satisfied: Pillow in /usr/local/lib/python3.10/dist-packages (from face_recognition) (9.4.0)\n",
            "Building wheels for collected packages: face-recognition-models\n",
            "  Building wheel for face-recognition-models (setup.py) ... \u001b[?25l\u001b[?25hdone\n",
            "  Created wheel for face-recognition-models: filename=face_recognition_models-0.3.0-py2.py3-none-any.whl size=100566172 sha256=24b71c42a1942fbb4451ad2d60187c6e131fc7192f9da12fd1239c041f291dbe\n",
            "  Stored in directory: /root/.cache/pip/wheels/7a/eb/cf/e9eced74122b679557f597bb7c8e4c739cfcac526db1fd523d\n",
            "Successfully built face-recognition-models\n",
            "Installing collected packages: face-recognition-models, face_recognition\n",
            "Successfully installed face-recognition-models-0.3.0 face_recognition-1.3.0\n",
            "Requirement already satisfied: numpy in /usr/local/lib/python3.10/dist-packages (1.23.5)\n",
            "Requirement already satisfied: scikit-learn in /usr/local/lib/python3.10/dist-packages (1.2.2)\n",
            "Requirement already satisfied: matplotlib in /usr/local/lib/python3.10/dist-packages (3.7.1)\n",
            "Requirement already satisfied: scipy>=1.3.2 in /usr/local/lib/python3.10/dist-packages (from scikit-learn) (1.10.1)\n",
            "Requirement already satisfied: joblib>=1.1.1 in /usr/local/lib/python3.10/dist-packages (from scikit-learn) (1.3.2)\n",
            "Requirement already satisfied: threadpoolctl>=2.0.0 in /usr/local/lib/python3.10/dist-packages (from scikit-learn) (3.2.0)\n",
            "Requirement already satisfied: contourpy>=1.0.1 in /usr/local/lib/python3.10/dist-packages (from matplotlib) (1.1.0)\n",
            "Requirement already satisfied: cycler>=0.10 in /usr/local/lib/python3.10/dist-packages (from matplotlib) (0.11.0)\n",
            "Requirement already satisfied: fonttools>=4.22.0 in /usr/local/lib/python3.10/dist-packages (from matplotlib) (4.42.0)\n",
            "Requirement already satisfied: kiwisolver>=1.0.1 in /usr/local/lib/python3.10/dist-packages (from matplotlib) (1.4.4)\n",
            "Requirement already satisfied: packaging>=20.0 in /usr/local/lib/python3.10/dist-packages (from matplotlib) (23.1)\n",
            "Requirement already satisfied: pillow>=6.2.0 in /usr/local/lib/python3.10/dist-packages (from matplotlib) (9.4.0)\n",
            "Requirement already satisfied: pyparsing>=2.3.1 in /usr/local/lib/python3.10/dist-packages (from matplotlib) (3.1.1)\n",
            "Requirement already satisfied: python-dateutil>=2.7 in /usr/local/lib/python3.10/dist-packages (from matplotlib) (2.8.2)\n",
            "Requirement already satisfied: six>=1.5 in /usr/local/lib/python3.10/dist-packages (from python-dateutil>=2.7->matplotlib) (1.16.0)\n"
          ]
        }
      ],
      "source": [
        "#using T4 GPU Person identity detection model\n",
        "!pip install dlib\n",
        "!pip install numpy\n",
        "!pip install matplotlib\n",
        "!pip install opencv-python\n",
        "!pip install face_recognition\n",
        "!pip install numpy scikit-learn matplotlib"
      ]
    },
    {
      "cell_type": "code",
      "execution_count": null,
      "metadata": {
        "id": "EAdwjNzBMtcP"
      },
      "outputs": [],
      "source": [
        "import cv2\n",
        "import dlib\n",
        "import cv2\n",
        "import numpy as np\n",
        "import numpy as np\n",
        "from PIL import Image\n",
        "import face_recognition\n",
        "from google.colab import files\n",
        "from google.colab import drive\n",
        "import matplotlib.pyplot as plt\n",
        "from google.colab.patches import cv2_imshow"
      ]
    },
    {
      "cell_type": "code",
      "execution_count": null,
      "metadata": {
        "colab": {
          "base_uri": "https://localhost:8080/"
        },
        "id": "yDD07u60LtfP",
        "outputId": "d441513d-8c62-472f-de1f-d32f55d6adf9"
      },
      "outputs": [
        {
          "output_type": "stream",
          "name": "stdout",
          "text": [
            "Drive already mounted at /content/drive; to attempt to forcibly remount, call drive.mount(\"/content/drive\", force_remount=True).\n"
          ]
        }
      ],
      "source": [
        "#Mount Google Drive\n",
        "drive.mount('/content/drive')"
      ]
    },
    {
      "cell_type": "code",
      "execution_count": null,
      "metadata": {
        "id": "pcKcvrBrOekj"
      },
      "outputs": [],
      "source": [
        "# Load the Haar Cascade classifier for face detection\n",
        "face_cascade = cv2.CascadeClassifier('/content/drive/MyDrive/haarcascade_frontalface_default.xml')\n",
        "\n",
        "detector = dlib.get_frontal_face_detector()\n",
        "predictor = dlib.shape_predictor(\"/content/drive/MyDrive/shape_predictor_68_face_landmarks.dat\")"
      ]
    },
    {
      "cell_type": "code",
      "execution_count": null,
      "metadata": {
        "id": "_xqxNoVQOjp7"
      },
      "outputs": [],
      "source": [
        "def compare(img1,img2):\n",
        "  gray_image1 = cv2.cvtColor(img1, cv2.COLOR_BGR2GRAY)\n",
        "  gray_image2 = cv2.cvtColor(img2, cv2.COLOR_BGR2GRAY)\n",
        "\n",
        "  # Detect faces in the first image\n",
        "  faces1 = face_cascade.detectMultiScale(gray_image1, scaleFactor=1.1, minNeighbors=5, minSize=(30, 30))\n",
        "  faces2 = face_cascade.detectMultiScale(gray_image2, scaleFactor=1.1, minNeighbors=5, minSize=(30, 30))\n",
        "\n",
        "  if len(faces1) <= 0:\n",
        "    print(\"No faces found in the first image.\")\n",
        "    return 0\n",
        "  elif len(faces2) <= 0:\n",
        "    print(\"No faces found in the second image.\")\n",
        "    return 0\n",
        "  else:\n",
        "    #extract face 1\n",
        "    largest_face1 = max(faces1, key=lambda f: f[2] * f[3])\n",
        "    x1, y1, w1, h1 = largest_face1\n",
        "    extracted_face1 = img1[y1:y1+h1, x1:x1+w1]\n",
        "\n",
        "    #extract face 2\n",
        "    largest_face2 = max(faces2, key=lambda f: f[2] * f[3])\n",
        "    x2, y2, w2, h2 = largest_face2\n",
        "    extracted_face2 = img2[y2:y2+h2, x2:x2+w2]\n",
        "\n",
        "    # cv2_imshow(extracted_face1)\n",
        "    # cv2_imshow(extracted_face2)\n",
        "\n",
        "    cv2.imwrite('/content/drive/MyDrive/Data/extracted_face1.jpg', extracted_face1)\n",
        "    cv2.imwrite('/content/drive/MyDrive/Data/extracted_face2.jpg', extracted_face2)\n",
        "\n",
        "\n",
        "    try:\n",
        "        encoded_face1 = face_recognition.load_image_file('/content/drive/MyDrive/Data/extracted_face1.jpg')\n",
        "        face_encodings1 = face_recognition.face_encodings(encoded_face1)[0]\n",
        "\n",
        "        encoded_face2 = face_recognition.load_image_file('/content/drive/MyDrive/Data/extracted_face2.jpg')\n",
        "        face_encodings2 = face_recognition.face_encodings(encoded_face2)[0]\n",
        "    except Exception as e:\n",
        "        print(\"An error occurred:\", str(e))\n",
        "        return 0\n",
        "\n",
        "    if len(face_encodings1)==0:\n",
        "      print(\"No face detected in images1.\")\n",
        "      return 0\n",
        "    elif len(face_encodings2)==0:\n",
        "      print(\"No face detected in images2.\")\n",
        "      return 0\n",
        "    else:\n",
        "      face_distance = np.linalg.norm(np.array(face_encodings1) - np.array(face_encodings2))\n",
        "      threshold = 0.6\n",
        "\n",
        "      if face_distance < threshold:\n",
        "          print(\"The faces are a match!\")\n",
        "          return 1\n",
        "      else:\n",
        "          print(\"The faces are not a match.\")\n",
        "          return 0\n",
        "\n"
      ]
    },
    {
      "cell_type": "code",
      "source": [
        "def calculate_eye_distance(img):\n",
        "    image_np = np.array(img)\n",
        "    faces = detector(image_np)\n",
        "\n",
        "    # Ensure only one face is detected\n",
        "    if len(faces) != 1:\n",
        "        print(\"Error: Exactly one face should be detected.\")\n",
        "        return None\n",
        "    else:\n",
        "        landmarks = predictor(image_np, faces[0])\n",
        "\n",
        "        left_eye = (landmarks.part(36).x, landmarks.part(36).y)\n",
        "        right_eye = (landmarks.part(45).x, landmarks.part(45).y)\n",
        "\n",
        "        distance_pixels = np.linalg.norm(np.array(left_eye) - np.array(right_eye))\n",
        "\n",
        "        average_interocular_distance_mm = 65\n",
        "        conversion_factor = average_interocular_distance_mm / distance_pixels\n",
        "        print(\"Distance in Pixels: \",distance_pixels)\n",
        "        distance_mm = distance_pixels * conversion_factor\n",
        "        return distance_mm\n",
        "\n",
        "inp_img = cv2.imread('/content/drive/MyDrive/Face_2.jpg')\n",
        "distance = calculate_eye_distance(inp_img)\n",
        "if distance is not None:\n",
        "    print(\"Distance:\", distance, \"mm\")\n"
      ],
      "metadata": {
        "colab": {
          "base_uri": "https://localhost:8080/"
        },
        "id": "eltCsZQfxS_N",
        "outputId": "8a3cd9d9-06e1-4673-eea4-1b6962494c68"
      },
      "execution_count": null,
      "outputs": [
        {
          "output_type": "stream",
          "name": "stdout",
          "text": [
            "Distance in Pixels:  187.06683297688022\n",
            "Distance: 65.0 mm\n"
          ]
        }
      ]
    },
    {
      "cell_type": "code",
      "execution_count": null,
      "metadata": {
        "colab": {
          "base_uri": "https://localhost:8080/"
        },
        "id": "KTclCGixNEXt",
        "outputId": "cb58c05d-215b-4d42-df39-6c86df1d50ba"
      },
      "outputs": [
        {
          "output_type": "stream",
          "name": "stdout",
          "text": [
            "The faces are a match!\n"
          ]
        },
        {
          "output_type": "execute_result",
          "data": {
            "text/plain": [
              "1"
            ]
          },
          "metadata": {},
          "execution_count": 9
        }
      ],
      "source": [
        "# Load the first image\n",
        "image1 = cv2.imread('/content/drive/MyDrive/Colab Notebooks/testing/face/f1.jpg')\n",
        "image2 = cv2.imread('/content/drive/MyDrive/Colab Notebooks/testing/id/id1.jpg')\n",
        "compare(image1,image2)"
      ]
    },
    {
      "cell_type": "code",
      "execution_count": null,
      "metadata": {
        "id": "BQFJcWXiOin4",
        "colab": {
          "base_uri": "https://localhost:8080/"
        },
        "outputId": "a465276c-1cf4-4f7c-b6e5-649d3ace71d0"
      },
      "outputs": [
        {
          "output_type": "stream",
          "name": "stdout",
          "text": [
            "case 1 The faces are a match!\n",
            "case 2 An error occurred: list index out of range\n",
            "case 3 The faces are a match!\n",
            "case 4 The faces are not a match.\n",
            "case 5 An error occurred: list index out of range\n",
            "case 6 An error occurred: list index out of range\n",
            "Actual Labels:  [1 1 1 1 1 1]\n",
            "Predicted Labels:  [1 0 1 0 0 0]\n"
          ]
        }
      ],
      "source": [
        "predicted_labels = []\n",
        "actual_labels =    [1,1,1,1,1,1]\n",
        "\n",
        "# Load the first image\n",
        "f1 = cv2.imread('/content/drive/MyDrive/Colab Notebooks/testing/face/f1.jpg')\n",
        "id1 = cv2.imread('/content/drive/MyDrive/Colab Notebooks/testing/id/id1.jpg')\n",
        "print(\"case 1 \",end=\"\")\n",
        "predicted_labels.append(compare(f1,id1))\n",
        "\n",
        "\n",
        "# Load the second image\n",
        "f2 = cv2.imread('/content/drive/MyDrive/Colab Notebooks/testing/face/f2.jpg')\n",
        "id2 = cv2.imread('/content/drive/MyDrive/Colab Notebooks/testing/id/id2.jpg')\n",
        "print(\"case 2 \",end=\"\")\n",
        "predicted_labels.append(compare(f2,id2))\n",
        "\n",
        "# Load the third image\n",
        "f3 = cv2.imread('/content/drive/MyDrive/Colab Notebooks/testing/face/f3.jpg')\n",
        "id3 = cv2.imread('/content/drive/MyDrive/Colab Notebooks/testing/id/id3.jpg')\n",
        "print(\"case 3 \",end=\"\")\n",
        "predicted_labels.append(compare(f3,id3))\n",
        "\n",
        "# Load the fourth image\n",
        "f4 = cv2.imread('/content/drive/MyDrive/Colab Notebooks/testing/face/f4.jpg')\n",
        "id4 = cv2.imread('/content/drive/MyDrive/Colab Notebooks/testing/id/id4.jpg')\n",
        "print(\"case 4 \",end=\"\")\n",
        "predicted_labels.append(compare(f4,id4))\n",
        "\n",
        "# Load the fifth image\n",
        "f5 = cv2.imread('/content/drive/MyDrive/Colab Notebooks/testing/face/f5.jpg')\n",
        "id5 = cv2.imread('/content/drive/MyDrive/Colab Notebooks/testing/id/id5.jpg')\n",
        "print(\"case 5 \",end=\"\")\n",
        "predicted_labels.append(compare(f5,id5))\n",
        "\n",
        "# Load the sixth image\n",
        "f6 = cv2.imread('/content/drive/MyDrive/Colab Notebooks/testing/face/f6.jpg')\n",
        "id6 = cv2.imread('/content/drive/MyDrive/Colab Notebooks/testing/id/id6.jpg')\n",
        "print(\"case 6 \",end=\"\")\n",
        "predicted_labels.append(compare(f6,id6))\n",
        "\n",
        "# Convert lists to numpy arrays for easier manipulation\n",
        "predicted_labels = np.array(predicted_labels)\n",
        "actual_labels = np.array(actual_labels)\n",
        "\n",
        "print(\"Actual Labels: \",actual_labels)\n",
        "print(\"Predicted Labels: \",predicted_labels)"
      ]
    },
    {
      "cell_type": "code",
      "source": [
        "from sklearn.metrics import confusion_matrix\n",
        "\n",
        "conf_matrix = confusion_matrix(actual_labels, predicted_labels)"
      ],
      "metadata": {
        "id": "Umrzrx7bW1nV"
      },
      "execution_count": null,
      "outputs": []
    },
    {
      "cell_type": "code",
      "source": [
        "import matplotlib.pyplot as plt\n",
        "import seaborn as sns\n",
        "\n",
        "# Create a heatmap for the confusion matrix\n",
        "plt.figure(figsize=(8, 6))\n",
        "sns.heatmap(conf_matrix, annot=True, fmt='d', cmap='Blues', cbar=False,\n",
        "            xticklabels=['Different', 'Same'], yticklabels=['Different', 'Same'])\n",
        "plt.xlabel('Predicted Labels')\n",
        "plt.ylabel('Actual Labels')\n",
        "plt.title('Confusion Matrix')\n",
        "plt.show()\n"
      ],
      "metadata": {
        "id": "lx2AYaPiXtU8"
      },
      "execution_count": null,
      "outputs": []
    },
    {
      "cell_type": "code",
      "source": [
        "print(\"Face 1: \")\n",
        "cv2_imshow(f1)\n",
        "distance = calculate_eye_distance(inp_img)\n",
        "if distance is not None:\n",
        "    print(\"Distance:\", distance, \"mm\")\n",
        "\n",
        "print(\"Face 2: \")\n",
        "cv2_imshow(f2)\n",
        "distance = calculate_eye_distance(inp_img)\n",
        "if distance is not None:\n",
        "    print(\"Distance:\", distance, \"mm\")\n",
        "\n",
        "print(\"Face 3: \")\n",
        "cv2_imshow(f3)\n",
        "distance = calculate_eye_distance(inp_img)\n",
        "if distance is not None:\n",
        "    print(\"Distance:\", distance, \"mm\")\n",
        "\n",
        "print(\"Face 4: \")\n",
        "cv2_imshow(f4)\n",
        "distance = calculate_eye_distance(inp_img)\n",
        "if distance is not None:\n",
        "    print(\"Distance:\", distance, \"mm\")\n",
        "\n",
        "print(\"Face 5: \")\n",
        "cv2_imshow(f5)\n",
        "distance = calculate_eye_distance(inp_img)\n",
        "if distance is not None:\n",
        "    print(\"Distance:\", distance, \"mm\")\n",
        "\n",
        "print(\"Face 6: \")\n",
        "cv2_imshow(f6)\n",
        "distance = calculate_eye_distance(inp_img)\n",
        "if distance is not None:\n",
        "    print(\"Distance:\", distance, \"mm\")"
      ],
      "metadata": {
        "id": "NIuL3_uqcUdO"
      },
      "execution_count": null,
      "outputs": []
    },
    {
      "cell_type": "code",
      "source": [],
      "metadata": {
        "id": "rlY96mw9yd3T"
      },
      "execution_count": null,
      "outputs": []
    }
  ],
  "metadata": {
    "accelerator": "GPU",
    "colab": {
      "provenance": []
    },
    "kernelspec": {
      "display_name": "Python 3",
      "name": "python3"
    },
    "language_info": {
      "name": "python"
    }
  },
  "nbformat": 4,
  "nbformat_minor": 0
}